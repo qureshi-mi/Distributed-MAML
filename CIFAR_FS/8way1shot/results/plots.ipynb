{
 "cells": [
  {
   "cell_type": "code",
   "execution_count": null,
   "id": "9acd2344",
   "metadata": {},
   "outputs": [],
   "source": [
    "# Loading the libraries\n",
    "import numpy as np\n",
    "import matplotlib.pyplot as plt\n",
    "from matplotlib.font_manager import FontProperties"
   ]
  },
  {
   "cell_type": "markdown",
   "id": "6bc109f6",
   "metadata": {},
   "source": [
    "# Accuracy plots for each node"
   ]
  },
  {
   "cell_type": "code",
   "execution_count": null,
   "id": "6597645c",
   "metadata": {},
   "outputs": [],
   "source": [
    "# Accuracy for node 1\n",
    "localMAML = np.loadtxt(\"localMAML_acc1.txt\", dtype=float)\n",
    "P2P_MAML = np.loadtxt(\"P2P_acc1.txt\", dtype=float)\n",
    "P2P_MAML_Plus = np.loadtxt(\"P2Pplus_acc1.txt\", dtype=float)"
   ]
  },
  {
   "cell_type": "code",
   "execution_count": null,
   "id": "60bdf2d0",
   "metadata": {},
   "outputs": [],
   "source": [
    "mark_every = 10\n",
    "skip = 100\n",
    "end = min(len(localMAML), len(P2P_MAML), len(P2P_MAML_Plus))\n",
    "epochs = np.linspace(1,end,end)[::skip]\n",
    "font = FontProperties()\n",
    "font.set_size(18)\n",
    "font2 = FontProperties()\n",
    "font2.set_size(10)\n",
    "plt.figure(3)\n",
    "plt.plot(epochs, localMAML[0:end][::skip],'-b', markevery = mark_every)\n",
    "plt.plot(epochs, P2P_MAML[0:end][::skip],'-m', markevery = mark_every)\n",
    "plt.plot(epochs, P2P_MAML_Plus[0:end][::skip],'-r', markevery = mark_every)\n",
    "plt.grid(True)\n",
    "plt.tick_params(labelsize='large', width=3)\n",
    "plt.xlabel('Epochs', fontproperties=font)\n",
    "plt.ylabel('Accuracy', fontproperties=font)\n",
    "plt.legend(('local MAML', 'P2P-MAML', 'P2P-MAML+'), prop=font2)\n",
    "plt.savefig('n1.png', format = 'png', bbox_inches='tight')"
   ]
  },
  {
   "cell_type": "code",
   "execution_count": null,
   "id": "c8a4dbaa",
   "metadata": {},
   "outputs": [],
   "source": [
    "# Accuracy for node 2\n",
    "localMAML = np.loadtxt(\"localMAML_acc2.txt\", dtype=float)\n",
    "P2P_MAML = np.loadtxt(\"P2P_acc2.txt\", dtype=float)\n",
    "P2P_MAML_Plus = np.loadtxt(\"P2Pplus_acc2.txt\", dtype=float)"
   ]
  },
  {
   "cell_type": "code",
   "execution_count": null,
   "id": "8299253d",
   "metadata": {},
   "outputs": [],
   "source": [
    "mark_every = 10\n",
    "skip = 100\n",
    "end = min(len(localMAML), len(P2P_MAML), len(P2P_MAML_Plus))\n",
    "epochs = np.linspace(1,end,end)[::skip]\n",
    "font = FontProperties()\n",
    "font.set_size(18)\n",
    "font2 = FontProperties()\n",
    "font2.set_size(10)\n",
    "plt.figure(3)\n",
    "plt.plot(epochs, localMAML[0:end][::skip],'-b', markevery = mark_every)\n",
    "plt.plot(epochs, P2P_MAML[0:end][::skip],'-m', markevery = mark_every)\n",
    "plt.plot(epochs, P2P_MAML_Plus[0:end][::skip],'-r', markevery = mark_every)\n",
    "plt.grid(True)\n",
    "plt.tick_params(labelsize='large', width=3)\n",
    "plt.xlabel('Epochs', fontproperties=font)\n",
    "plt.ylabel('Accuracy', fontproperties=font)\n",
    "plt.legend(('local MAML', 'P2P-MAML', 'P2P-MAML+'), prop=font2)\n",
    "plt.savefig('n2.png', format = 'png', bbox_inches='tight')"
   ]
  },
  {
   "cell_type": "code",
   "execution_count": null,
   "id": "a3185a84",
   "metadata": {},
   "outputs": [],
   "source": [
    "# Accuracy for node 3\n",
    "localMAML = np.loadtxt(\"localMAML_acc3.txt\", dtype=float)\n",
    "P2P_MAML = np.loadtxt(\"P2P_acc3.txt\", dtype=float)\n",
    "P2P_MAML_Plus = np.loadtxt(\"P2Pplus_acc3.txt\", dtype=float)"
   ]
  },
  {
   "cell_type": "code",
   "execution_count": null,
   "id": "7b52944f",
   "metadata": {},
   "outputs": [],
   "source": [
    "mark_every = 10\n",
    "skip = 100\n",
    "end = min(len(localMAML), len(P2P_MAML), len(P2P_MAML_Plus))\n",
    "epochs = np.linspace(1,end,end)[::skip]\n",
    "font = FontProperties()\n",
    "font.set_size(18)\n",
    "font2 = FontProperties()\n",
    "font2.set_size(10)\n",
    "plt.figure(3)\n",
    "plt.plot(epochs, localMAML[0:end][::skip],'-b', markevery = mark_every)\n",
    "plt.plot(epochs, P2P_MAML[0:end][::skip],'-m', markevery = mark_every)\n",
    "plt.plot(epochs, P2P_MAML_Plus[0:end][::skip],'-r', markevery = mark_every)\n",
    "plt.grid(True)\n",
    "plt.tick_params(labelsize='large', width=3)\n",
    "plt.xlabel('Epochs', fontproperties=font)\n",
    "plt.ylabel('Accuracy', fontproperties=font)\n",
    "plt.legend(('local MAML', 'P2P-MAML', 'P2P-MAML+'), prop=font2)\n",
    "plt.savefig('n3.png', format = 'png', bbox_inches='tight')"
   ]
  },
  {
   "cell_type": "code",
   "execution_count": null,
   "id": "9f5b90e9",
   "metadata": {},
   "outputs": [],
   "source": [
    "# Accuracy for node 4\n",
    "localMAML = np.loadtxt(\"localMAML_acc4.txt\", dtype=float)\n",
    "P2P_MAML = np.loadtxt(\"P2P_acc4.txt\", dtype=float)\n",
    "P2P_MAML_Plus = np.loadtxt(\"P2Pplus_acc4.txt\", dtype=float)"
   ]
  },
  {
   "cell_type": "code",
   "execution_count": null,
   "id": "19a5893d",
   "metadata": {},
   "outputs": [],
   "source": [
    "mark_every = 10\n",
    "skip = 100\n",
    "end = min(len(localMAML), len(P2P_MAML), len(P2P_MAML_Plus))\n",
    "epochs = np.linspace(1,end,end)[::skip]\n",
    "font = FontProperties()\n",
    "font.set_size(18)\n",
    "font2 = FontProperties()\n",
    "font2.set_size(10)\n",
    "plt.figure(3)\n",
    "plt.plot(epochs, localMAML[0:end][::skip],'-b', markevery = mark_every)\n",
    "plt.plot(epochs, P2P_MAML[0:end][::skip],'-m', markevery = mark_every)\n",
    "plt.plot(epochs, P2P_MAML_Plus[0:end][::skip],'-r', markevery = mark_every)\n",
    "plt.grid(True)\n",
    "plt.tick_params(labelsize='large', width=3)\n",
    "plt.xlabel('Epochs', fontproperties=font)\n",
    "plt.ylabel('Accuracy', fontproperties=font)\n",
    "plt.legend(('local MAML', 'P2P-MAML', 'P2P-MAML+'), prop=font2)\n",
    "plt.savefig('n4.png', format = 'png', bbox_inches='tight')"
   ]
  }
 ],
 "metadata": {
  "kernelspec": {
   "display_name": "Python 3 (ipykernel)",
   "language": "python",
   "name": "python3"
  },
  "language_info": {
   "codemirror_mode": {
    "name": "ipython",
    "version": 3
   },
   "file_extension": ".py",
   "mimetype": "text/x-python",
   "name": "python",
   "nbconvert_exporter": "python",
   "pygments_lexer": "ipython3",
   "version": "3.7.16"
  }
 },
 "nbformat": 4,
 "nbformat_minor": 5
}
